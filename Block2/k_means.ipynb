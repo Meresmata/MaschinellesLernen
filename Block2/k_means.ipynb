{
 "cells": [
  {
   "cell_type": "code",
   "execution_count": 9,
   "outputs": [],
   "source": [
    "from pandas import read_csv\n",
    "from einfuehrung.Labor_2_Clustering import k_means, distance_euklid"
   ],
   "metadata": {
    "collapsed": false
   }
  },
  {
   "cell_type": "code",
   "execution_count": 10,
   "outputs": [
    {
     "data": {
      "text/plain": "   Unnamed: 0.1  Unnamed: 0  DrivAge  rel_risk       Mileage  max_accel_x  \\\n0             0           3       52  0.025511   6235.337875     4.270571   \n1             1           7       38  0.093298   2520.900336     1.787043   \n2             2          16       44  0.119460  14136.719210     4.403333   \n3             3          17       32  0.023914   7718.314400     0.481826   \n4             4          22       73  0.108091   3495.908846    14.967886   \n\n   min_accel_x  max_accel_y  min_accel_y  max_speed_mw  ...  ratio_urban  \\\n0    -3.186554     2.236002    -1.696633    139.580307  ...     0.234289   \n1    -3.118378     2.129723    -1.241005    157.229086  ...     0.348099   \n2    -3.074536     2.512433    -1.387016    166.693425  ...     0.226000   \n3    -3.012558     1.783253    -2.248576    136.874746  ...     0.225024   \n4    -2.792939     2.182035    -1.979150    164.069706  ...     0.196956   \n\n   ratio_rural  ratio_night  ratio_precip  ratio_rush  four_accel_1  \\\n0     0.617811     0.159878      0.182537    0.065222      2.470029   \n1     0.493600     0.162678      0.153850    0.138712     -3.454407   \n2     0.640880     0.161343      0.200200    0.180049    -25.788232   \n3     0.619133     0.151244      0.165610    0.365876      2.066236   \n4     0.648112     0.156745      0.114058    0.000403     10.282886   \n\n   four_accel_2  four_accel_3  four_accel_4  driving_skill  \n0      0.000814     82.928661   3782.818447              3  \n1      0.404569     30.738335    496.235516              5  \n2      3.060334    157.741334   3917.657266              5  \n3     79.250061    174.778169   2958.453923              3  \n4      0.000067     28.245054    792.581652              5  \n\n[5 rows x 23 columns]",
      "text/html": "<div>\n<style scoped>\n    .dataframe tbody tr th:only-of-type {\n        vertical-align: middle;\n    }\n\n    .dataframe tbody tr th {\n        vertical-align: top;\n    }\n\n    .dataframe thead th {\n        text-align: right;\n    }\n</style>\n<table border=\"1\" class=\"dataframe\">\n  <thead>\n    <tr style=\"text-align: right;\">\n      <th></th>\n      <th>Unnamed: 0.1</th>\n      <th>Unnamed: 0</th>\n      <th>DrivAge</th>\n      <th>rel_risk</th>\n      <th>Mileage</th>\n      <th>max_accel_x</th>\n      <th>min_accel_x</th>\n      <th>max_accel_y</th>\n      <th>min_accel_y</th>\n      <th>max_speed_mw</th>\n      <th>...</th>\n      <th>ratio_urban</th>\n      <th>ratio_rural</th>\n      <th>ratio_night</th>\n      <th>ratio_precip</th>\n      <th>ratio_rush</th>\n      <th>four_accel_1</th>\n      <th>four_accel_2</th>\n      <th>four_accel_3</th>\n      <th>four_accel_4</th>\n      <th>driving_skill</th>\n    </tr>\n  </thead>\n  <tbody>\n    <tr>\n      <th>0</th>\n      <td>0</td>\n      <td>3</td>\n      <td>52</td>\n      <td>0.025511</td>\n      <td>6235.337875</td>\n      <td>4.270571</td>\n      <td>-3.186554</td>\n      <td>2.236002</td>\n      <td>-1.696633</td>\n      <td>139.580307</td>\n      <td>...</td>\n      <td>0.234289</td>\n      <td>0.617811</td>\n      <td>0.159878</td>\n      <td>0.182537</td>\n      <td>0.065222</td>\n      <td>2.470029</td>\n      <td>0.000814</td>\n      <td>82.928661</td>\n      <td>3782.818447</td>\n      <td>3</td>\n    </tr>\n    <tr>\n      <th>1</th>\n      <td>1</td>\n      <td>7</td>\n      <td>38</td>\n      <td>0.093298</td>\n      <td>2520.900336</td>\n      <td>1.787043</td>\n      <td>-3.118378</td>\n      <td>2.129723</td>\n      <td>-1.241005</td>\n      <td>157.229086</td>\n      <td>...</td>\n      <td>0.348099</td>\n      <td>0.493600</td>\n      <td>0.162678</td>\n      <td>0.153850</td>\n      <td>0.138712</td>\n      <td>-3.454407</td>\n      <td>0.404569</td>\n      <td>30.738335</td>\n      <td>496.235516</td>\n      <td>5</td>\n    </tr>\n    <tr>\n      <th>2</th>\n      <td>2</td>\n      <td>16</td>\n      <td>44</td>\n      <td>0.119460</td>\n      <td>14136.719210</td>\n      <td>4.403333</td>\n      <td>-3.074536</td>\n      <td>2.512433</td>\n      <td>-1.387016</td>\n      <td>166.693425</td>\n      <td>...</td>\n      <td>0.226000</td>\n      <td>0.640880</td>\n      <td>0.161343</td>\n      <td>0.200200</td>\n      <td>0.180049</td>\n      <td>-25.788232</td>\n      <td>3.060334</td>\n      <td>157.741334</td>\n      <td>3917.657266</td>\n      <td>5</td>\n    </tr>\n    <tr>\n      <th>3</th>\n      <td>3</td>\n      <td>17</td>\n      <td>32</td>\n      <td>0.023914</td>\n      <td>7718.314400</td>\n      <td>0.481826</td>\n      <td>-3.012558</td>\n      <td>1.783253</td>\n      <td>-2.248576</td>\n      <td>136.874746</td>\n      <td>...</td>\n      <td>0.225024</td>\n      <td>0.619133</td>\n      <td>0.151244</td>\n      <td>0.165610</td>\n      <td>0.365876</td>\n      <td>2.066236</td>\n      <td>79.250061</td>\n      <td>174.778169</td>\n      <td>2958.453923</td>\n      <td>3</td>\n    </tr>\n    <tr>\n      <th>4</th>\n      <td>4</td>\n      <td>22</td>\n      <td>73</td>\n      <td>0.108091</td>\n      <td>3495.908846</td>\n      <td>14.967886</td>\n      <td>-2.792939</td>\n      <td>2.182035</td>\n      <td>-1.979150</td>\n      <td>164.069706</td>\n      <td>...</td>\n      <td>0.196956</td>\n      <td>0.648112</td>\n      <td>0.156745</td>\n      <td>0.114058</td>\n      <td>0.000403</td>\n      <td>10.282886</td>\n      <td>0.000067</td>\n      <td>28.245054</td>\n      <td>792.581652</td>\n      <td>5</td>\n    </tr>\n  </tbody>\n</table>\n<p>5 rows × 23 columns</p>\n</div>"
     },
     "execution_count": 10,
     "metadata": {},
     "output_type": "execute_result"
    }
   ],
   "source": [
    "df = read_csv('telematik_agg_v2.csv')\n",
    "df.head()"
   ],
   "metadata": {
    "collapsed": false
   }
  },
  {
   "cell_type": "code",
   "execution_count": 11,
   "outputs": [
    {
     "data": {
      "text/plain": "   DrivAge  rel_risk       Mileage  max_accel_x  min_accel_x  max_accel_y  \\\n0       52  0.025511   6235.337875     4.270571    -3.186554     2.236002   \n1       38  0.093298   2520.900336     1.787043    -3.118378     2.129723   \n2       44  0.119460  14136.719210     4.403333    -3.074536     2.512433   \n3       32  0.023914   7718.314400     0.481826    -3.012558     1.783253   \n4       73  0.108091   3495.908846    14.967886    -2.792939     2.182035   \n\n   min_accel_y  max_speed_mw  max_speed_urban  max_speed_rural  ratio_mw  \\\n0    -1.696633    139.580307       131.528249        55.806158  0.147900   \n1    -1.241005    157.229086       136.481766        58.827611  0.158301   \n2    -1.387016    166.693425       136.615064        61.657666  0.133120   \n3    -2.248576    136.874746       131.570166        56.072814  0.155843   \n4    -1.979150    164.069706       135.150505        60.160611  0.154932   \n\n   ratio_urban  ratio_rural  ratio_night  ratio_precip  ratio_rush  \\\n0     0.234289     0.617811     0.159878      0.182537    0.065222   \n1     0.348099     0.493600     0.162678      0.153850    0.138712   \n2     0.226000     0.640880     0.161343      0.200200    0.180049   \n3     0.225024     0.619133     0.151244      0.165610    0.365876   \n4     0.196956     0.648112     0.156745      0.114058    0.000403   \n\n   four_accel_1  four_accel_2  four_accel_3  four_accel_4  \n0      2.470029      0.000814     82.928661   3782.818447  \n1     -3.454407      0.404569     30.738335    496.235516  \n2    -25.788232      3.060334    157.741334   3917.657266  \n3      2.066236     79.250061    174.778169   2958.453923  \n4     10.282886      0.000067     28.245054    792.581652  ",
      "text/html": "<div>\n<style scoped>\n    .dataframe tbody tr th:only-of-type {\n        vertical-align: middle;\n    }\n\n    .dataframe tbody tr th {\n        vertical-align: top;\n    }\n\n    .dataframe thead th {\n        text-align: right;\n    }\n</style>\n<table border=\"1\" class=\"dataframe\">\n  <thead>\n    <tr style=\"text-align: right;\">\n      <th></th>\n      <th>DrivAge</th>\n      <th>rel_risk</th>\n      <th>Mileage</th>\n      <th>max_accel_x</th>\n      <th>min_accel_x</th>\n      <th>max_accel_y</th>\n      <th>min_accel_y</th>\n      <th>max_speed_mw</th>\n      <th>max_speed_urban</th>\n      <th>max_speed_rural</th>\n      <th>ratio_mw</th>\n      <th>ratio_urban</th>\n      <th>ratio_rural</th>\n      <th>ratio_night</th>\n      <th>ratio_precip</th>\n      <th>ratio_rush</th>\n      <th>four_accel_1</th>\n      <th>four_accel_2</th>\n      <th>four_accel_3</th>\n      <th>four_accel_4</th>\n    </tr>\n  </thead>\n  <tbody>\n    <tr>\n      <th>0</th>\n      <td>52</td>\n      <td>0.025511</td>\n      <td>6235.337875</td>\n      <td>4.270571</td>\n      <td>-3.186554</td>\n      <td>2.236002</td>\n      <td>-1.696633</td>\n      <td>139.580307</td>\n      <td>131.528249</td>\n      <td>55.806158</td>\n      <td>0.147900</td>\n      <td>0.234289</td>\n      <td>0.617811</td>\n      <td>0.159878</td>\n      <td>0.182537</td>\n      <td>0.065222</td>\n      <td>2.470029</td>\n      <td>0.000814</td>\n      <td>82.928661</td>\n      <td>3782.818447</td>\n    </tr>\n    <tr>\n      <th>1</th>\n      <td>38</td>\n      <td>0.093298</td>\n      <td>2520.900336</td>\n      <td>1.787043</td>\n      <td>-3.118378</td>\n      <td>2.129723</td>\n      <td>-1.241005</td>\n      <td>157.229086</td>\n      <td>136.481766</td>\n      <td>58.827611</td>\n      <td>0.158301</td>\n      <td>0.348099</td>\n      <td>0.493600</td>\n      <td>0.162678</td>\n      <td>0.153850</td>\n      <td>0.138712</td>\n      <td>-3.454407</td>\n      <td>0.404569</td>\n      <td>30.738335</td>\n      <td>496.235516</td>\n    </tr>\n    <tr>\n      <th>2</th>\n      <td>44</td>\n      <td>0.119460</td>\n      <td>14136.719210</td>\n      <td>4.403333</td>\n      <td>-3.074536</td>\n      <td>2.512433</td>\n      <td>-1.387016</td>\n      <td>166.693425</td>\n      <td>136.615064</td>\n      <td>61.657666</td>\n      <td>0.133120</td>\n      <td>0.226000</td>\n      <td>0.640880</td>\n      <td>0.161343</td>\n      <td>0.200200</td>\n      <td>0.180049</td>\n      <td>-25.788232</td>\n      <td>3.060334</td>\n      <td>157.741334</td>\n      <td>3917.657266</td>\n    </tr>\n    <tr>\n      <th>3</th>\n      <td>32</td>\n      <td>0.023914</td>\n      <td>7718.314400</td>\n      <td>0.481826</td>\n      <td>-3.012558</td>\n      <td>1.783253</td>\n      <td>-2.248576</td>\n      <td>136.874746</td>\n      <td>131.570166</td>\n      <td>56.072814</td>\n      <td>0.155843</td>\n      <td>0.225024</td>\n      <td>0.619133</td>\n      <td>0.151244</td>\n      <td>0.165610</td>\n      <td>0.365876</td>\n      <td>2.066236</td>\n      <td>79.250061</td>\n      <td>174.778169</td>\n      <td>2958.453923</td>\n    </tr>\n    <tr>\n      <th>4</th>\n      <td>73</td>\n      <td>0.108091</td>\n      <td>3495.908846</td>\n      <td>14.967886</td>\n      <td>-2.792939</td>\n      <td>2.182035</td>\n      <td>-1.979150</td>\n      <td>164.069706</td>\n      <td>135.150505</td>\n      <td>60.160611</td>\n      <td>0.154932</td>\n      <td>0.196956</td>\n      <td>0.648112</td>\n      <td>0.156745</td>\n      <td>0.114058</td>\n      <td>0.000403</td>\n      <td>10.282886</td>\n      <td>0.000067</td>\n      <td>28.245054</td>\n      <td>792.581652</td>\n    </tr>\n  </tbody>\n</table>\n</div>"
     },
     "execution_count": 11,
     "metadata": {},
     "output_type": "execute_result"
    }
   ],
   "source": [
    "df_2 = df.drop(columns=['Unnamed: 0.1', 'Unnamed: 0', 'driving_skill'])\n",
    "df_2.head()"
   ],
   "metadata": {
    "collapsed": false
   }
  },
  {
   "cell_type": "code",
   "execution_count": 12,
   "outputs": [
    {
     "name": "stdout",
     "output_type": "stream",
     "text": [
      "run number is 0\n"
     ]
    },
    {
     "ename": "TypeError",
     "evalue": "'numpy.float64' object is not callable",
     "output_type": "error",
     "traceback": [
      "\u001B[0;31m---------------------------------------------------------------------------\u001B[0m",
      "\u001B[0;31mTypeError\u001B[0m                                 Traceback (most recent call last)",
      "Cell \u001B[0;32mIn [12], line 1\u001B[0m\n\u001B[0;32m----> 1\u001B[0m clusters \u001B[38;5;241m=\u001B[39m k_means(df_2, \u001B[38;5;241m5\u001B[39m, distance_euklid)\n\u001B[1;32m      2\u001B[0m clusters\n",
      "File \u001B[0;32m~/Dokumente/Basti/Studium/HSHarz/MaschinellesLernen/einfuehrung/Labor_2_Clustering.py:45\u001B[0m, in \u001B[0;36mk_means\u001B[0;34m(_df, k, dist)\u001B[0m\n\u001B[1;32m     43\u001B[0m best_c_idx \u001B[38;5;241m=\u001B[39m np\u001B[38;5;241m.\u001B[39mrandom\u001B[38;5;241m.\u001B[39mchoice(centroids\u001B[38;5;241m.\u001B[39mindex)\n\u001B[1;32m     44\u001B[0m \u001B[38;5;28;01mfor\u001B[39;00m c_idx \u001B[38;5;129;01min\u001B[39;00m centroids\u001B[38;5;241m.\u001B[39mindex:\n\u001B[0;32m---> 45\u001B[0m     \u001B[38;5;28;01mif\u001B[39;00m best_distance \u001B[38;5;241m>\u001B[39m (dist \u001B[38;5;241m:=\u001B[39m \u001B[43mdist\u001B[49m\u001B[43m(\u001B[49m\u001B[43m_df\u001B[49m\u001B[38;5;241;43m.\u001B[39;49m\u001B[43mloc\u001B[49m\u001B[43m[\u001B[49m\u001B[43ms_idx\u001B[49m\u001B[43m]\u001B[49m\u001B[43m,\u001B[49m\n\u001B[1;32m     46\u001B[0m \u001B[43m                                     \u001B[49m\u001B[43mcentroids\u001B[49m\u001B[38;5;241;43m.\u001B[39;49m\u001B[43mloc\u001B[49m\u001B[43m[\u001B[49m\u001B[43mc_idx\u001B[49m\u001B[43m]\u001B[49m\u001B[43m)\u001B[49m):\n\u001B[1;32m     47\u001B[0m         best_distance \u001B[38;5;241m=\u001B[39m dist\n\u001B[1;32m     48\u001B[0m         best_c_idx \u001B[38;5;241m=\u001B[39m c_idx\n",
      "\u001B[0;31mTypeError\u001B[0m: 'numpy.float64' object is not callable"
     ]
    }
   ],
   "source": [
    "clusters = k_means(df_2, 5, distance_euklid)\n",
    "clusters"
   ],
   "metadata": {
    "collapsed": false
   }
  },
  {
   "cell_type": "code",
   "execution_count": null,
   "outputs": [],
   "source": [],
   "metadata": {
    "collapsed": false
   }
  }
 ],
 "metadata": {
  "kernelspec": {
   "display_name": "Python 3",
   "language": "python",
   "name": "python3"
  },
  "language_info": {
   "codemirror_mode": {
    "name": "ipython",
    "version": 2
   },
   "file_extension": ".py",
   "mimetype": "text/x-python",
   "name": "python",
   "nbconvert_exporter": "python",
   "pygments_lexer": "ipython2",
   "version": "2.7.6"
  }
 },
 "nbformat": 4,
 "nbformat_minor": 0
}
